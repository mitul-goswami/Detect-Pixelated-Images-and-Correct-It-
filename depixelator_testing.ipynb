{
  "cells": [
    {
      "cell_type": "markdown",
      "metadata": {
        "id": "3izVL3gv-m-L"
      },
      "source": [
        "# TESTING THE PIXELATED IMAGE CORRECTION MODEL"
      ]
    },
    {
      "cell_type": "markdown",
      "metadata": {
        "id": "Ga5ols_T_JeF"
      },
      "source": [
        "## UPGRADING THE LIBRARIES TO THE REQUIRED VERSIONS"
      ]
    },
    {
      "cell_type": "code",
      "execution_count": null,
      "metadata": {
        "id": "1dW7r2jD-m-S"
      },
      "outputs": [],
      "source": [
        "%pip install --upgrade pip\n",
        "%pip install --upgrade tensorflow\n",
        "%pip install --upgrade scikit-learn\n",
        "%pip install --upgrade pydot\n",
        "%pip install --upgrade matplotlib\n",
        "\n",
        "## IN CASE YOU ARE FACING ISSUES WHILE LOADING MODELS OR IMPORTING LIBRARIES YOU CAN\n",
        "## USE THE VERSIONS OF THESE LIBRARIES ON WHICH OUR MODEL WAS CREATED\n",
        "\n",
        "# %pip install --upgrade pip==24.1.1\n",
        "# %pip install --upgrade ipykernel==5.5.6\n",
        "# %pip install --upgrade numpy==1.25.2\n",
        "# %pip install --upgrade pandas==2.0.3\n",
        "# %pip install --upgrade tensorflow==2.16.2\n",
        "# %pip install --upgrade keras==3.4.1\n",
        "# %pip install --upgrade scikit-learn==1.5.0\n",
        "# %pip install --upgrade matplotlib==3.9.0\n",
        "# %pip install --upgrade pydot==2.0.0"
      ]
    },
    {
      "cell_type": "markdown",
      "metadata": {
        "id": "XnfaKtE6_nQu"
      },
      "source": [
        "IMPORTING THE LIBRARIES"
      ]
    },
    {
      "cell_type": "code",
      "execution_count": 1,
      "metadata": {
        "id": "6FNFHErn-m-S"
      },
      "outputs": [],
      "source": [
        "import os\n",
        "import tensorflow as tf\n",
        "import tensorflow.keras as tfk\n",
        "from tensorflow.keras.applications import VGG19, vgg19"
      ]
    },
    {
      "cell_type": "markdown",
      "metadata": {
        "id": "wZKMNXZHAGk8"
      },
      "source": [
        "## REQUIRED FUNCTIONS"
      ]
    },
    {
      "cell_type": "markdown",
      "metadata": {
        "id": "AiwH7BIV_rFp"
      },
      "source": [
        "These are custom functions required by `depixelator` model"
      ]
    },
    {
      "cell_type": "code",
      "execution_count": 2,
      "metadata": {
        "id": "cKTQqejY-m-S"
      },
      "outputs": [],
      "source": [
        "vgg = VGG19(include_top=False, weights='imagenet', input_shape=(None, None, 3))\n",
        "vgg_model = tfk.Model(inputs=vgg.input, outputs=[vgg.get_layer('block3_conv4').output, vgg.get_layer('block4_conv1').output, vgg.get_layer('block4_conv2').output])\n",
        "vgg_model.trainable = False\n",
        "\n",
        "@tfk.utils.register_keras_serializable()\n",
        "def compute_perceptual_loss(y_true, y_pred):\n",
        "    y_true = vgg19.preprocess_input(y_true * 255.0)\n",
        "    y_pred = vgg19.preprocess_input(y_pred * 255.0)\n",
        "\n",
        "    true_features = vgg_model(y_true)\n",
        "    pred_features = vgg_model(y_pred)\n",
        "\n",
        "    loss = 0.0\n",
        "    for t, p in zip(true_features, pred_features):\n",
        "        loss += tf.reduce_mean(tf.abs(t - p))\n",
        "    return loss\n",
        "\n",
        "@tfk.utils.register_keras_serializable()\n",
        "def compute_psnr(y_true, y_pred):\n",
        "    return tf.image.psnr(y_true, y_pred, max_val=1.0)\n",
        "\n",
        "@tfk.utils.register_keras_serializable()\n",
        "def compute_ssim(y_true, y_pred):\n",
        "    return tf.image.ssim(y_true, y_pred, max_val=1.0)"
      ]
    },
    {
      "cell_type": "markdown",
      "metadata": {
        "id": "-Li5uQ5iAS0v"
      },
      "source": [
        "These is the definition of the `depixelate_images` function"
      ]
    },
    {
      "cell_type": "code",
      "execution_count": 3,
      "metadata": {
        "id": "oV__BUdA-m-S"
      },
      "outputs": [],
      "source": [
        "def depixelate_images(detector, depixelator, pixelated_image_paths, depixelated_dir, real_image_paths=[]):\n",
        "    \"\"\"\n",
        "    Depixelate a list of pixelated images using the specified detector and depixelator models.\n",
        "    Optionally, compare the depixelated images with real images if provided.\n",
        "\n",
        "    Parameters:\n",
        "    - detector: The model used to detect pixelated regions.\n",
        "    - depixelator: The model used to depixelate the images.\n",
        "    - pixelated_image_paths: List of file paths to the pixelated images.\n",
        "    - depixelated_dir: Directory where depixelated images will be saved.\n",
        "    - real_image_paths: Optional list of file paths to the real images for comparison.\n",
        "    \"\"\"\n",
        "\n",
        "    def load_process_image(image_path):\n",
        "        \"\"\"\n",
        "        Load and preprocess the image to ensure it is compatible with the model input requirements.\n",
        "\n",
        "        Parameters:\n",
        "        - image_path: Path to the image file.\n",
        "\n",
        "        Returns:\n",
        "        - Preprocessed image tensor.\n",
        "        \"\"\"\n",
        "        img = tf.io.read_file(image_path)\n",
        "        img = tf.image.decode_image(img, channels=3, expand_animations=False, dtype=tf.float32)\n",
        "\n",
        "        # Calculate padding to make dimensions multiples of 64\n",
        "        shape = tf.shape(img)\n",
        "        height, width = shape[0], shape[1]\n",
        "        padding_width  = ((width  + 63) // 64) * 64 - width\n",
        "        padding_height = ((height + 63) // 64) * 64 - height\n",
        "        left  = padding_width  // 2\n",
        "        upper = padding_height // 2\n",
        "\n",
        "        # Pad the image and expand dimensions to match the model input\n",
        "        img = tf.image.pad_to_bounding_box(img, upper, left, height + padding_height, width + padding_width)\n",
        "        return tf.expand_dims(img, axis=0)\n",
        "\n",
        "    def depixelate_image(image):\n",
        "        \"\"\"\n",
        "        Depixelate the image if the detector model identifies pixelation.\n",
        "\n",
        "        Parameters:\n",
        "        - image: Input image tensor.\n",
        "\n",
        "        Returns:\n",
        "        - Depixelated image tensor if pixelation is detected, otherwise returns the original image.\n",
        "        \"\"\"\n",
        "        if detector(image, training=False) > 0:\n",
        "            return depixelator(image, training=False)\n",
        "        else:\n",
        "            return image\n",
        "\n",
        "    # Ensure the output directory exists\n",
        "    os.makedirs(depixelated_dir, exist_ok=True)\n",
        "\n",
        "    # Check if real images are available for comparison\n",
        "    real_available = len(real_image_paths) > 0\n",
        "\n",
        "    for i, pixelated_image_path in enumerate(pixelated_image_paths):\n",
        "\n",
        "        # Load and preprocess the pixelated image\n",
        "        pixelated_image = load_process_image(pixelated_image_path)\n",
        "        depixelated_image = depixelate_image(pixelated_image)\n",
        "\n",
        "        if real_available:\n",
        "\n",
        "            # print('Depixelating... ', pixelated_image_path)\n",
        "            # print('Ground Truth:', real_image_paths[i])\n",
        "\n",
        "            # Load and preprocess the real image\n",
        "            real_image = load_process_image(real_image_paths[i])\n",
        "\n",
        "            # Calculate and print initial and final metrics\n",
        "            # print(\n",
        "            #     'Initial Metrics:',\n",
        "            #     'Perceptual Loss:', compute_perceptual_loss(real_image, pixelated_image).numpy(),\n",
        "            #     'PSNR:', compute_psnr(real_image, pixelated_image).numpy()[0],\n",
        "            #     'SSIM:', compute_ssim(real_image, pixelated_image).numpy()[0]\n",
        "            # )\n",
        "            print(\n",
        "                # 'Final Metrics:',\n",
        "                'Perceptual Loss:', compute_perceptual_loss(real_image, depixelated_image).numpy(),\n",
        "                'PSNR:', compute_psnr(real_image, depixelated_image).numpy()[0],\n",
        "                'SSIM:', compute_ssim(real_image, depixelated_image).numpy()[0]\n",
        "            )\n",
        "\n",
        "        # Save the depixelated image\n",
        "        depixelated_image_path = os.path.join(depixelated_dir, 'pred_' + os.path.basename(pixelated_image_path))\n",
        "        print('Depixelated Image Saved As:', depixelated_image_path, '\\n')\n",
        "\n",
        "        depixelated_image = tf.image.convert_image_dtype(tf.squeeze(depixelated_image, axis=0), dtype=tf.uint8)\n",
        "        depixelated_image = tf.image.encode_png(depixelated_image)\n",
        "        tf.io.write_file(depixelated_image_path, depixelated_image)"
      ]
    },
    {
      "cell_type": "markdown",
      "metadata": {
        "id": "4_JfDEHpBv2V"
      },
      "source": [
        "## TODO: IMAGE PATHS (important)\n",
        "\n",
        "- tester has to implement this cell based on how his testing data is organized\n",
        "- to depixelate images we require `pixelated_image_paths` (mandatory) which is the paths (not names) to all of your pixelated images\n",
        "- you can also implement `real_image_paths` (optional) if you also have ground truth images for some metrics comparison\n",
        "- make sure a pixelated image and the corresponding ground truth image has same index on both the list"
      ]
    },
    {
      "cell_type": "code",
      "execution_count": 4,
      "metadata": {
        "id": "9YOMy956-m-S"
      },
      "outputs": [],
      "source": [
        "# pixelated_image_dir = './test/'\n",
        "# # real_image_dir = './'\n",
        "\n",
        "# pixelated_image_basenames = sorted(os.listdir(pixelated_image_dir))\n",
        "# pixelated_image_paths = [os.path.join(pixelated_image_dir, bname) for bname in pixelated_image_basenames]\n",
        "\n",
        "# # real_image_paths = [os.path.join(real_image_dir, bname.split('_')[0] + '.png') for bname in pixelated_image_basenames]"
      ]
    },
    {
      "cell_type": "code",
      "execution_count": 5,
      "metadata": {
        "colab": {
          "base_uri": "https://localhost:8080/",
          "height": 228
        },
        "id": "ci1A6o3L-m-S",
        "outputId": "88654946-77a6-4ff7-f760-9565747d1c9e"
      },
      "outputs": [
        {
          "name": "stdout",
          "output_type": "stream",
          "text": [
            "10\n",
            "10\n",
            "['./test/flower_d2.png', './test/flower_d3.png', './test/flower_d4.png', './test/flower_d5.png', './test/flower_d6.png', './test/flower_d7.png', './test/flower_d8.png', './test/flower_j10.png', './test/flower_j18.png', './test/flower_j28.png']\n",
            "['./flower.png', './flower.png', './flower.png', './flower.png', './flower.png', './flower.png', './flower.png', './flower.png', './flower.png', './flower.png']\n"
          ]
        }
      ],
      "source": [
        "# check if your implementation working correctly\n",
        "\n",
        "print(len(pixelated_image_paths))\n",
        "# print(len(real_image_paths))\n",
        "\n",
        "print(pixelated_image_paths)\n",
        "# print(real_image_paths)"
      ]
    },
    {
      "cell_type": "markdown",
      "metadata": {
        "id": "0QHF-WvqDg58"
      },
      "source": [
        "## LOADING MODELS\n",
        "\n",
        "- models are loaded\n",
        "- and a `depixelated_dir` is to be defined where the depixelated images are saved"
      ]
    },
    {
      "cell_type": "code",
      "execution_count": 6,
      "metadata": {
        "id": "hhQ36fTID4-4"
      },
      "outputs": [],
      "source": [
        "depixelator = tf.keras.models.load_model('./depixelator_004_2.keras')\n",
        "detector    = tf.keras.models.load_model('./detector_005_1_50.keras')\n",
        "\n",
        "depixelated_dir = './pred_test/'"
      ]
    },
    {
      "cell_type": "markdown",
      "metadata": {
        "id": "66Q-TYTyD4KE"
      },
      "source": [
        "## DEPIXELATION\n",
        "\n",
        "- run the `depixelate_images` function with the loaded `detector`, `depixelator` model and `pixelated_image_paths` and `depixelated_dir`\n",
        "- all the depixelated images will be saved on `depixelated_dir`\n",
        "- optionally if you also pass a `real_image_paths` this function will also show some metrics (PSNR, SSIM, Pixel Loss, Perceptual Loss) but this will slow down the depixelation process"
      ]
    },
    {
      "cell_type": "code",
      "execution_count": 7,
      "metadata": {
        "id": "dUlQfgJO-m-T"
      },
      "outputs": [
        {
          "name": "stdout",
          "output_type": "stream",
          "text": [
            "Depixelated Image Saved As: ./pred_test/pred_flower_d2.png \n",
            "\n",
            "Depixelated Image Saved As: ./pred_test/pred_flower_d3.png \n",
            "\n",
            "Depixelated Image Saved As: ./pred_test/pred_flower_d4.png \n",
            "\n",
            "Depixelated Image Saved As: ./pred_test/pred_flower_d5.png \n",
            "\n",
            "Depixelated Image Saved As: ./pred_test/pred_flower_d6.png \n",
            "\n",
            "Depixelated Image Saved As: ./pred_test/pred_flower_d7.png \n",
            "\n",
            "Depixelated Image Saved As: ./pred_test/pred_flower_d8.png \n",
            "\n",
            "Depixelated Image Saved As: ./pred_test/pred_flower_j10.png \n",
            "\n",
            "Depixelated Image Saved As: ./pred_test/pred_flower_j18.png \n",
            "\n",
            "Depixelated Image Saved As: ./pred_test/pred_flower_j28.png \n",
            "\n"
          ]
        }
      ],
      "source": [
        "depixelate_images(detector, depixelator, pixelated_image_paths, depixelated_dir)\n",
        "\n",
        "# depixelate_images(detector, depixelator, pixelated_image_paths, depixelated_dir, real_image_paths)"
      ]
    },
    {
      "cell_type": "code",
      "execution_count": null,
      "metadata": {
        "id": "09OFcwou-m-T"
      },
      "outputs": [],
      "source": [
        "from google.colab import runtime\n",
        "runtime.unassign()"
      ]
    }
  ],
  "metadata": {
    "colab": {
      "name": "scratchpad",
      "provenance": []
    },
    "kernelspec": {
      "display_name": "Python 3",
      "name": "python3"
    },
    "language_info": {
      "name": "python",
      "version": "3.12.4"
    }
  },
  "nbformat": 4,
  "nbformat_minor": 0
}
